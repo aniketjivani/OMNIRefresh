{
 "cells": [
  {
   "cell_type": "markdown",
   "id": "a49bd1fd",
   "metadata": {},
   "source": [
    "# Download Data"
   ]
  },
  {
   "cell_type": "code",
   "execution_count": 1,
   "id": "d559fff4",
   "metadata": {},
   "outputs": [
    {
     "name": "stdout",
     "output_type": "stream",
     "text": [
      "Download complete.\n"
     ]
    }
   ],
   "source": [
    "import os\n",
    "import requests\n",
    "from urllib.parse import urljoin\n",
    "\n",
    "base_url = \"https://spdf.gsfc.nasa.gov/pub/data/omni/high_res_omni/modified/monthly_1min/\"\n",
    "\n",
    "save_dir = \"C:/Users/feixi/Desktop/deltaB/data/omni/high_res_1min/\"\n",
    "\n",
    "# Check and create directory if not exists\n",
    "os.makedirs(save_dir, exist_ok=True)\n",
    "\n",
    "# Download everything from 1995 to 2022\n",
    "for year in range(1995, 2023):\n",
    "    for month in range(1, 13):\n",
    "        # Construct the filename and its URL\n",
    "        filename = f\"omni_min{year}{str(month).zfill(2)}.asc\"\n",
    "        file_url = urljoin(base_url, filename)\n",
    "\n",
    "        # Attempt to download the file\n",
    "        response = requests.get(file_url, stream=True)\n",
    "\n",
    "        # If the download is successful, save the file\n",
    "        if response.status_code == 200:\n",
    "            with open(os.path.join(save_dir, filename), 'wb') as f:\n",
    "                for chunk in response.iter_content(chunk_size=1024):\n",
    "                    if chunk:\n",
    "                        f.write(chunk)\n",
    "        else:\n",
    "            print(f\"Failed to download {filename}.\")\n",
    "\n",
    "print(\"Download complete.\")"
   ]
  },
  {
   "cell_type": "markdown",
   "id": "8f174bf6",
   "metadata": {},
   "source": [
    "# Load Data"
   ]
  },
  {
   "cell_type": "code",
   "execution_count": 2,
   "id": "36682921",
   "metadata": {},
   "outputs": [],
   "source": [
    "import time\n",
    "from rich.progress import track\n",
    "import os\n",
    "import pandas as pd\n",
    "import geopack\n",
    "import datetime\n",
    "import pyspedas\n",
    "import pytplot\n",
    "from pytplot import tplot\n",
    "import geopack.geopack as gp\n",
    "from datetime import datetime\n",
    "import numpy as np\n",
    "import datetime"
   ]
  },
  {
   "cell_type": "code",
   "execution_count": 3,
   "id": "9521b42e",
   "metadata": {},
   "outputs": [
    {
     "data": {
      "application/vnd.jupyter.widget-view+json": {
       "model_id": "3c93ae12c4fe41ad99a46a52d7f1e1a6",
       "version_major": 2,
       "version_minor": 0
      },
      "text/plain": [
       "Output()"
      ]
     },
     "metadata": {},
     "output_type": "display_data"
    },
    {
     "data": {
      "text/html": [
       "<pre style=\"white-space:pre;overflow-x:auto;line-height:normal;font-family:Menlo,'DejaVu Sans Mono',consolas,'Courier New',monospace\"></pre>\n"
      ],
      "text/plain": []
     },
     "metadata": {},
     "output_type": "display_data"
    },
    {
     "data": {
      "text/html": [
       "<pre style=\"white-space:pre;overflow-x:auto;line-height:normal;font-family:Menlo,'DejaVu Sans Mono',consolas,'Courier New',monospace\">\n",
       "</pre>\n"
      ],
      "text/plain": [
       "\n"
      ]
     },
     "metadata": {},
     "output_type": "display_data"
    },
    {
     "name": "stdout",
     "output_type": "stream",
     "text": [
      "Data loading complete.\n"
     ]
    }
   ],
   "source": [
    "\n",
    "# Define the directory where downloaded files are saved\n",
    "save_dir = \"C:/Users/feixi/Desktop/deltaB/data/omni/high_res_1min/\"\n",
    "\n",
    "# Define the time range\n",
    "start_year, start_month = 1995, 1\n",
    "end_year, end_month = 2022, 12\n",
    "\n",
    "# Prepare an empty DataFrame to hold the data\n",
    "df = pd.DataFrame()\n",
    "\n",
    "# Loop through each year and month\n",
    "for year in track(range(start_year, end_year+1)):\n",
    "    for month in range(1, 13):\n",
    "        if year == start_year and month < start_month:\n",
    "            continue\n",
    "        if year == end_year and month > end_month:\n",
    "            break\n",
    "        # Construct the filename\n",
    "        filename = f\"omni_min{year}{str(month).zfill(2)}.asc\"\n",
    "        file_path = os.path.join(save_dir, filename)\n",
    "\n",
    "        # Check if the file exists\n",
    "        if os.path.isfile(file_path):\n",
    "            # Read the file into a DataFrame\n",
    "            df_temp = np.loadtxt(file_path)  # Add delimiter or other arguments if needed\n",
    "            # Append the data to the main DataFrame\n",
    "#           df = df.append(pd.DataFrame(df_temp))\n",
    "            df = pd.concat([df, pd.DataFrame(df_temp)], ignore_index=True)\n",
    "        else:\n",
    "            print(f\"{filename} not found.\")\n",
    "\n",
    "# Function to convert year, day of year, hour, and minute into a datetime object\n",
    "def convert_to_datetime(row):\n",
    "    return datetime.datetime(int(row[0]), 1, 1, int(row[2]), int(row[3])) + pd.Timedelta(days=int(row[1])-1)\n",
    "\n",
    "# Apply the function to each row in the DataFrame\n",
    "df['Datetime'] = df.apply(convert_to_datetime, axis=1)\n",
    "\n",
    "# Set the new datetime column as the index\n",
    "df.set_index('Datetime', inplace=True)\n",
    "# Rename columns\n",
    "df.drop(columns=df.columns[:4], axis=1, inplace=True)\n",
    "df.columns = ['ID for IMF spacecraft', 'ID for SW Plasma spacecraft', '# of points in IMF averages', \n",
    "              '# of points in Plasma averages', 'Percent interp', 'Timeshift, sec', 'RMS, Timeshift', \n",
    "              'RMS, Phase front normal', 'Time btwn observations, sec', 'Field magnitude average', \n",
    "              'Bx, nT (GSE, GSM)', 'By, nT (GSE)', 'Bz, nT (GSE)', 'By, nT (GSM)', 'Bz, nT (GSM)', 'RMS SD B scalar',\n",
    "              'RMS SD field vector', 'Flow speed, km/s', 'Vx Velocity, km/s, GSE', 'Vy Velocity, km/s, GSE', \n",
    "              'Vz Velocity, km/s, GSE', 'Proton Density, n/cc', 'Temperature, K', 'Flow pressure, nPa', \n",
    "              'Electric field, mV/m', 'Plasma beta', 'Alfven mach number', 'X(s/c), GSE, Re', 'Y(s/c), GSE, Re', \n",
    "              'Z(s/c), GSE, Re', 'BSN location, Xgse, Re', 'BSN location, Ygse, Re', 'BSN location, Zgse, Re',\n",
    "              'AE-index, nT', 'AL-index, nT', 'AU-index, nT', 'SYM/D index, nT', 'SYM/H index, nT', \n",
    "              'ASY/D index, nT', 'ASY/H index, nT', 'Na/Np Ratio', 'Magnetosonic mach number']\n",
    "df.to_pickle(\"C:/Users/feixi/Desktop/deltaB/data/processed_data/OMNI_raw.pkl\")\n",
    "print(\"Data loading complete.\")"
   ]
  },
  {
   "cell_type": "markdown",
   "id": "cc1eedf7",
   "metadata": {},
   "source": [
    "# Let's start from here if locally"
   ]
  },
  {
   "cell_type": "code",
   "execution_count": 1,
   "id": "28ba7fd1",
   "metadata": {},
   "outputs": [
    {
     "name": "stdout",
     "output_type": "stream",
     "text": [
      "Load IGRF coefficients ...\n"
     ]
    }
   ],
   "source": [
    "import time\n",
    "from rich.progress import track\n",
    "import os\n",
    "import pandas as pd\n",
    "import geopack\n",
    "import datetime\n",
    "import pyspedas\n",
    "import pytplot\n",
    "from pytplot import tplot\n",
    "import geopack.geopack as gp\n",
    "from datetime import datetime\n",
    "import numpy as np\n",
    "import datetime\n",
    "import logging\n",
    "import requests\n",
    "from pytplot import time_double\n",
    "from pytplot import time_clip as tclip\n",
    "from pytplot import store_data, options\n",
    "from pyspedas.utilities.dailynames import dailynames\n",
    "import re\n",
    "from matplotlib import pyplot as plt\n",
    "import random"
   ]
  },
  {
   "cell_type": "code",
   "execution_count": null,
   "id": "326aa2ef",
   "metadata": {},
   "outputs": [],
   "source": [
    "df = pd.read_pickle(\"C:/Users/feixi/Desktop/deltaB/data/processed_data/OMNI_raw.pkl\")\n",
    "df = df[['Bx, nT (GSE, GSM)', 'By, nT (GSM)', 'Bz, nT (GSM)', 'Vx Velocity, km/s, GSE',\n",
    "         'Proton Density, n/cc', 'Temperature, K']]"
   ]
  },
  {
   "cell_type": "markdown",
   "id": "b14c76c9",
   "metadata": {},
   "source": [
    "replace missing value with NA, and we only remove large chunks of NA values (15 or more consecutive NAs in any column)"
   ]
  },
  {
   "cell_type": "code",
   "execution_count": 5,
   "id": "ce7ea0de",
   "metadata": {},
   "outputs": [],
   "source": [
    "df = df.replace(999.99, np.nan)\n",
    "df = df.replace(9999.99, np.nan)\n",
    "df = df.replace(99999.9, np.nan)\n",
    "df = df.replace(9999999., np.nan)\n",
    "for col in df.columns:\n",
    "    mask = df[col].notna()\n",
    "    a = mask.ne(mask.shift()).cumsum()\n",
    "    df = df[(a.groupby(a).transform('size') < 15) | mask]\n",
    "df = df.ffill()"
   ]
  },
  {
   "cell_type": "code",
   "execution_count": 6,
   "id": "24100604",
   "metadata": {},
   "outputs": [],
   "source": [
    "# # df = df[['Bx, nT (GSE, GSM)', 'By, nT (GSE)','Bz, nT (GSE)', 'Vx Velocity, km/s, GSE',\n",
    "# #        'Vy Velocity, km/s, GSE', 'Vz Velocity, km/s, GSE', 'Proton Density, n/cc', 'Temperature, K', \n",
    "# #          'Flow pressure, nPa', 'Electric field, mV/m']]\n",
    "# ## use Bx,By,Bz in GSM coordinate system\n",
    "# ## select data from year 2001 to year 2015\n",
    "# df = df.loc['2001-01-01':'2016-01-02']\n",
    "# ## drop na values\n",
    "# df = df.drop(df[df['Bx, nT (GSE, GSM)'] == 9999.99].index)\n",
    "# df = df.drop(df[df['By, nT (GSM)'] == 9999.99].index)\n",
    "# df = df.drop(df[df['Bz, nT (GSM)'] == 9999.99].index)\n",
    "# df = df.drop(df[df['Vx Velocity, km/s, GSE'] == 99999.9].index)\n",
    "# # df = df.drop(df[df['Vy Velocity, km/s, GSE'] == 99999.9].index)\n",
    "# # df = df.drop(df[df['Vz Velocity, km/s, GSE'] == 99999.9].index)\n",
    "# df = df.drop(df[df['Proton Density, n/cc'] == 999.99].index)\n",
    "# df = df.drop(df[df['Temperature, K'] == 9999999.].index)\n",
    "# # df = df.drop(df[df['Flow pressure, nPa'] == 99.99].index)\n",
    "# # df = df.drop(df[df['Electric field, mV/m'] == 999.99].index)\n",
    "# # df = df.drop(df[df['SYM/H index, nT'] == 99999].index)"
   ]
  },
  {
   "cell_type": "code",
   "execution_count": 7,
   "id": "ec8864d4",
   "metadata": {},
   "outputs": [],
   "source": [
    "## start time\n",
    "epoch_time = datetime.datetime(1970,1,1)\n",
    "## Time since 1970-01-01\n",
    "delta = df.index - epoch_time\n",
    "## universal time\n",
    "ut = delta.total_seconds()"
   ]
  },
  {
   "cell_type": "code",
   "execution_count": 8,
   "id": "1ecd8530",
   "metadata": {},
   "outputs": [
    {
     "data": {
      "application/vnd.jupyter.widget-view+json": {
       "model_id": "7fe53d83cd024c4aa2f5ad138d8afae1",
       "version_major": 2,
       "version_minor": 0
      },
      "text/plain": [
       "Output()"
      ]
     },
     "metadata": {},
     "output_type": "display_data"
    },
    {
     "data": {
      "text/html": [
       "<pre style=\"white-space:pre;overflow-x:auto;line-height:normal;font-family:Menlo,'DejaVu Sans Mono',consolas,'Courier New',monospace\"></pre>\n"
      ],
      "text/plain": []
     },
     "metadata": {},
     "output_type": "display_data"
    },
    {
     "data": {
      "text/html": [
       "<pre style=\"white-space:pre;overflow-x:auto;line-height:normal;font-family:Menlo,'DejaVu Sans Mono',consolas,'Courier New',monospace\">\n",
       "</pre>\n"
      ],
      "text/plain": [
       "\n"
      ]
     },
     "metadata": {},
     "output_type": "display_data"
    }
   ],
   "source": [
    "## I should rewrite gp.recalc in the future if I have time. Only dipole tilt angle is desired here. \n",
    "ps_list = []\n",
    "for i in track(range(len(ut.values))):\n",
    "    ps = gp.recalc(ut.values[i])\n",
    "    ps_list.append(ps)\n",
    "df[\"Dipole Tilt Angle\"] = ps_list\n",
    "df.to_pickle(\"C:/Users/feixi/Desktop/deltaB/data/processed_data/OMNI_DTA.pkl\")"
   ]
  },
  {
   "cell_type": "markdown",
   "id": "a79eec7c",
   "metadata": {},
   "source": [
    "# F10.7 data from OMNI low resolution 1 hour average"
   ]
  },
  {
   "cell_type": "markdown",
   "id": "6326e6fd",
   "metadata": {},
   "source": [
    "data available at https://spdf.gsfc.nasa.gov/pub/data/omni/low_res_omni/"
   ]
  },
  {
   "cell_type": "code",
   "execution_count": 3,
   "id": "2eb8f827",
   "metadata": {},
   "outputs": [],
   "source": [
    "df = pd.read_pickle(\"C:/Users/feixi/Desktop/deltaB/data/processed_data/OMNI_DTA.pkl\")"
   ]
  },
  {
   "cell_type": "code",
   "execution_count": 4,
   "id": "29143fbb",
   "metadata": {},
   "outputs": [],
   "source": [
    "lowres_data = np.genfromtxt(\"C:/Users/feixi/Desktop/deltaB/data/omni/low_res_1h/omni2_all_years.dat\",\n",
    "                     skip_header=0)"
   ]
  },
  {
   "cell_type": "code",
   "execution_count": 5,
   "id": "faf06777",
   "metadata": {},
   "outputs": [],
   "source": [
    "def get_month_day(row):\n",
    "    year = int(row[0])\n",
    "    numday = int(row[1])\n",
    "    numhour = int(row[2])\n",
    "    start_date = datetime.datetime(year=year,month=1,day=1)\n",
    "    deltaT = datetime.timedelta(days=numday-1, hours=numhour)\n",
    "    return start_date + deltaT"
   ]
  },
  {
   "cell_type": "code",
   "execution_count": 6,
   "id": "795106f5",
   "metadata": {},
   "outputs": [],
   "source": [
    "lowres_time = np.apply_along_axis(get_month_day, 1, lowres_data[:, 0:3])\n",
    "F10_7 = pd.DataFrame(lowres_data[:, 50])\n",
    "F10_7.columns = [\"f10.7_index\"]\n",
    "F10_7.index = lowres_time\n",
    "F10_7 = F10_7.replace(999.9, np.nan).ffill()\n",
    "F10_7 = F10_7.resample('1T').ffill()\n",
    "df_joint = df.join(F10_7)"
   ]
  },
  {
   "cell_type": "markdown",
   "id": "2f0bc2e4",
   "metadata": {},
   "source": [
    "## Now let's get Dst"
   ]
  },
  {
   "cell_type": "code",
   "execution_count": 7,
   "id": "93017d7c",
   "metadata": {},
   "outputs": [],
   "source": [
    "def parse_html(html_text, year=None, month=None):\n",
    "    \"\"\"\n",
    "    Parses the HTML content to extract relevant information.\n",
    "\n",
    "    Parameters\n",
    "    ----------\n",
    "    html_text : str\n",
    "        The HTML content to parse.\n",
    "    year : int, optional\n",
    "        The year to consider while parsing the HTML content. If not provided, all years are considered.\n",
    "    month : int, optional\n",
    "        The month to consider while parsing the HTML content. If not provided, all months are considered.\n",
    "\n",
    "    Returns\n",
    "    -------\n",
    "    dict\n",
    "        A dictionary containing the parsed information.\n",
    "    \"\"\"\n",
    "    times = []\n",
    "    data = []\n",
    "    # remove all of the HTML before the table\n",
    "    html_data = html_text[html_text.find(\"Hourly Equatorial Dst Values\") :]\n",
    "    # remove all of the HTML after the table\n",
    "    html_data = html_data[: html_data.find(\"<!-- vvvvv S yyyymm_part3.html vvvvv -->\")]\n",
    "    html_lines = html_data.split(\"\\n\")\n",
    "    data_strs = html_lines[5:]\n",
    "    # loop over days\n",
    "    for day_str in data_strs:\n",
    "        # the first element of hourly_data is the day, the rest are the hourly Dst values\n",
    "#         hourly_data = day_str.split()\n",
    "        hourly_data = re.findall(r'[-+]?\\d+', day_str)\n",
    "        if len(hourly_data[1:]) != 24:\n",
    "            continue\n",
    "        for idx, dst_value in enumerate(hourly_data[1:]):\n",
    "            times.append(\n",
    "                time_double(\n",
    "                    year + \"-\" + month + \"-\" + hourly_data[0] + \"/\" + str(idx) + \":30\"\n",
    "                )\n",
    "            )\n",
    "            data.append(float(dst_value))\n",
    "\n",
    "    return (times, data)\n",
    "\n",
    "\n",
    "def my_dst(\n",
    "    trange=None,\n",
    "    time_clip=True,\n",
    "    remote_data_dir=\"http://wdc.kugi.kyoto-u.ac.jp/\",\n",
    "    suffix=\"\",\n",
    "):\n",
    "    \"\"\"\n",
    "    Loads Dst index data from the Kyoto servers.\n",
    "\n",
    "    Parameters\n",
    "    ----------\n",
    "    trange : list of str, required\n",
    "        Time range of interest with the format ['YYYY-MM-DD','YYYY-MM-DD'] or\n",
    "        to specify more or less than a day ['YYYY-MM-DD/hh:mm:ss','YYYY-MM-DD/hh:mm:ss'].\n",
    "    time_clip : bool, optional\n",
    "        Time clip the variables to exactly the range specified in the trange keyword.\n",
    "        Defaults to True.\n",
    "    remote_data_dir : str, optional\n",
    "        The remote directory from where to load the Dst index data.\n",
    "        Defaults to \"http://wdc.kugi.kyoto-u.ac.jp/\".\n",
    "    suffix : str, optional\n",
    "        The tplot variable names will be given this suffix.\n",
    "        By default, no suffix is added.\n",
    "\n",
    "    Returns\n",
    "    -------\n",
    "    list\n",
    "        List of tplot variables created.\n",
    "\n",
    "    Examples\n",
    "    --------\n",
    "    >>> from pyspedas.kyoto import dst\n",
    "    >>> dst_data = dst(trange=['2015-01-01', '2015-01-02'])\n",
    "    >>> print(dst_data)\n",
    "    kyoto_dst\n",
    "\n",
    "    Acknowledgment\n",
    "    --------------\n",
    "        The DST data are provided by the World Data Center for Geomagnetism, Kyoto, and\n",
    "        are not for redistribution (http://wdc.kugi.kyoto-u.ac.jp/). Furthermore, we thank\n",
    "        the geomagnetic observatories (Kakioka [JMA], Honolulu and San Juan [USGS], Hermanus\n",
    "        [RSA], Alibag [IIG]), NiCT, INTERMAGNET, and many others for their cooperation to\n",
    "        make the Dst index available.\n",
    "    \"\"\"\n",
    "\n",
    "    if trange is None:\n",
    "        logging.error(\"trange keyword required to download data.\")\n",
    "        return\n",
    "\n",
    "    try:\n",
    "        file_names = dailynames(file_format=\"%Y%m/index.html\", trange=trange)\n",
    "    except Exception as e:\n",
    "        logging.error(\"Error occurred while getting file names: \" + str(e))\n",
    "        return\n",
    "\n",
    "    times = []\n",
    "    data = []\n",
    "    datatype = \"\"\n",
    "\n",
    "    # Final files\n",
    "    for filename in file_names:\n",
    "        html_text = requests.get(remote_data_dir + \"dst_final/\" + filename).text\n",
    "        file_times, file_data = parse_html(\n",
    "            html_text, year=filename[:4], month=filename[4:6]\n",
    "        )\n",
    "        times.extend(file_times)\n",
    "        data.extend(file_data)\n",
    "        if len(file_times) != 0:\n",
    "            datatype = \"Final\"\n",
    "\n",
    "    # Provisional files\n",
    "    for filename in file_names:\n",
    "        html_text = requests.get(remote_data_dir + \"dst_provisional/\" + filename).text\n",
    "        file_times, file_data = parse_html(\n",
    "            html_text, year=filename[:4], month=filename[4:6]\n",
    "        )\n",
    "        times.extend(file_times)\n",
    "        data.extend(file_data)\n",
    "        if len(file_times) != 0:\n",
    "            datatype = \"Provisional\"\n",
    "\n",
    "    # Real Time files\n",
    "    for filename in file_names:\n",
    "        html_text = requests.get(remote_data_dir + \"dst_realtime/\" + filename).text\n",
    "        file_times, file_data = parse_html(\n",
    "            html_text, year=filename[:4], month=filename[4:6]\n",
    "        )\n",
    "        times.extend(file_times)\n",
    "        data.extend(file_data)\n",
    "        if len(file_times) != 0:\n",
    "            datatype = \"Real Time\"\n",
    "\n",
    "    if len(times) == 0:\n",
    "        logging.error(\"No data found.\")\n",
    "        return\n",
    "\n",
    "    store_data(\"kyoto_dst\" + suffix, data={\"x\": times, \"y\": data})\n",
    "\n",
    "    if time_clip:\n",
    "        tclip(\"kyoto_dst\" + suffix, trange[0], trange[1], suffix=\"\")\n",
    "\n",
    "    options(\"kyoto_dst\" + suffix, \"ytitle\", \"Dst (\" + datatype + \")\")\n",
    "\n",
    "    logging.info(\n",
    "        \"**************************************************************************************\"\n",
    "    )\n",
    "    logging.info(\n",
    "        \"The DST data are provided by the World Data Center for Geomagnetism, Kyoto, and\"\n",
    "    )\n",
    "    logging.info(\n",
    "        \" are not for redistribution (http://wdc.kugi.kyoto-u.ac.jp/). Furthermore, we thank\"\n",
    "    )\n",
    "    logging.info(\n",
    "        \" the geomagnetic observatories (Kakioka [JMA], Honolulu and San Juan [USGS], Hermanus\"\n",
    "    )\n",
    "    logging.info(\n",
    "        \" [RSA], Alibag [IIG]), NiCT, INTERMAGNET, and many others for their cooperation to\"\n",
    "    )\n",
    "    logging.info(\" make the Dst index available.\")\n",
    "    logging.info(\n",
    "        \"**************************************************************************************\"\n",
    "    )\n",
    "\n",
    "    return \"kyoto_dst\" + suffix"
   ]
  },
  {
   "cell_type": "code",
   "execution_count": 8,
   "id": "80d77303",
   "metadata": {},
   "outputs": [
    {
     "name": "stderr",
     "output_type": "stream",
     "text": [
      "05-Mar-24 15:22:15: **************************************************************************************\n",
      "05-Mar-24 15:22:15: The DST data are provided by the World Data Center for Geomagnetism, Kyoto, and\n",
      "05-Mar-24 15:22:15:  are not for redistribution (http://wdc.kugi.kyoto-u.ac.jp/). Furthermore, we thank\n",
      "05-Mar-24 15:22:15:  the geomagnetic observatories (Kakioka [JMA], Honolulu and San Juan [USGS], Hermanus\n",
      "05-Mar-24 15:22:15:  [RSA], Alibag [IIG]), NiCT, INTERMAGNET, and many others for their cooperation to\n",
      "05-Mar-24 15:22:15:  make the Dst index available.\n",
      "05-Mar-24 15:22:15: **************************************************************************************\n"
     ]
    }
   ],
   "source": [
    "# Python package pyspedas provides a easy way to download dst data.\n",
    "## downloading data from https://wdc.kugi.kyoto-u.ac.jp/index.html\n",
    "dst_vars = my_dst(trange=['1995-01-01', '2023-01-02'])"
   ]
  },
  {
   "cell_type": "code",
   "execution_count": 9,
   "id": "f63319d7",
   "metadata": {},
   "outputs": [],
   "source": [
    "dst = pytplot.data_quants['kyoto_dst']\n",
    "df_dst = pd.DataFrame(dst.to_numpy())\n",
    "df_dst.columns = [\"Dst\"]\n",
    "df_dst.index = dst.time.to_numpy()\n",
    "df_dst = df_dst.resample('1T').ffill()\n",
    "df_joint_dst = df_joint.join(df_dst)\n",
    "## now let's fill all missing data with the nearest data prior to this point, so we avoid using data from future.\n",
    "df_joint_dst = df_joint_dst.fillna(method='ffill').loc[\"1995-01-01\":\"2023\"].dropna()"
   ]
  },
  {
   "cell_type": "code",
   "execution_count": 22,
   "id": "11951ea5",
   "metadata": {},
   "outputs": [],
   "source": [
    "df_joint_dst.to_pickle(\"C:/Users/feixi/Desktop/deltaB/data/processed_data/OMNI_PhysicsInformedCols_1995_2022.pkl\")"
   ]
  },
  {
   "cell_type": "markdown",
   "id": "8bfc2abe",
   "metadata": {},
   "source": [
    "## Let's identify the storms with Dst < -50 nT."
   ]
  },
  {
   "cell_type": "markdown",
   "id": "ddea1665",
   "metadata": {},
   "source": [
    "## we apply an algorithm to find local minima."
   ]
  },
  {
   "cell_type": "code",
   "execution_count": 10,
   "id": "4f6d5e28",
   "metadata": {},
   "outputs": [],
   "source": [
    "from scipy.signal import argrelextrema\n",
    "dst = pytplot.data_quants['kyoto_dst']\n",
    "df_dst = pd.DataFrame(dst.to_numpy())\n",
    "df_dst.columns = [\"Dst\"]\n",
    "df_dst.index = dst.time.to_numpy()\n",
    "df_dst.to_pickle(\"C:/Users/feixi/Desktop/deltaB/data/processed_data/Dst_1995_2022.pkl\")"
   ]
  },
  {
   "cell_type": "code",
   "execution_count": 12,
   "id": "80098ba3",
   "metadata": {},
   "outputs": [],
   "source": [
    "## We find the local minima using a 5-hour window.\n",
    "Dst_localMin = df_dst.iloc[argrelextrema(df_dst.Dst.values,\n",
    "                                         np.less_equal,\n",
    "                                         order=36)[0]]"
   ]
  },
  {
   "cell_type": "code",
   "execution_count": 9,
   "id": "b99b5479",
   "metadata": {},
   "outputs": [],
   "source": [
    "Storm_date = Dst_localMin[Dst_localMin['Dst'] < -50].index"
   ]
  },
  {
   "cell_type": "code",
   "execution_count": 16,
   "id": "61a7e6f0",
   "metadata": {},
   "outputs": [],
   "source": [
    "Dst_condition = Dst_localMin[Dst_localMin['Dst'] < -50]"
   ]
  },
  {
   "cell_type": "code",
   "execution_count": 17,
   "id": "06fed504",
   "metadata": {},
   "outputs": [
    {
     "data": {
      "text/plain": [
       "[<matplotlib.lines.Line2D at 0x1f5fb0b9890>]"
      ]
     },
     "execution_count": 17,
     "metadata": {},
     "output_type": "execute_result"
    },
    {
     "data": {
      "image/png": "[encoded data removed]",
      "text/plain": [
       "<Figure size 640x480 with 1 Axes>"
      ]
     },
     "metadata": {},
     "output_type": "display_data"
    }
   ],
   "source": [
    "plt.plot(Dst_condition.index, Dst_condition['Dst'])"
   ]
  },
  {
   "cell_type": "code",
   "execution_count": 117,
   "id": "365c63cf",
   "metadata": {},
   "outputs": [
    {
     "data": {
      "text/html": [
       "<div>\n",
       "<style scoped>\n",
       "    .dataframe tbody tr th:only-of-type {\n",
       "        vertical-align: middle;\n",
       "    }\n",
       "\n",
       "    .dataframe tbody tr th {\n",
       "        vertical-align: top;\n",
       "    }\n",
       "\n",
       "    .dataframe thead th {\n",
       "        text-align: right;\n",
       "    }\n",
       "</style>\n",
       "<table border=\"1\" class=\"dataframe\">\n",
       "  <thead>\n",
       "    <tr style=\"text-align: right;\">\n",
       "      <th></th>\n",
       "      <th>Dst</th>\n",
       "    </tr>\n",
       "  </thead>\n",
       "  <tbody>\n",
       "    <tr>\n",
       "      <th>2000-06-08 19:30:00</th>\n",
       "      <td>-90.0</td>\n",
       "    </tr>\n",
       "    <tr>\n",
       "      <th>2021-10-17 23:30:00</th>\n",
       "      <td>-55.0</td>\n",
       "    </tr>\n",
       "    <tr>\n",
       "      <th>2016-02-16 19:30:00</th>\n",
       "      <td>-65.0</td>\n",
       "    </tr>\n",
       "  </tbody>\n",
       "</table>\n",
       "</div>"
      ],
      "text/plain": [
       "                      Dst\n",
       "2000-06-08 19:30:00 -90.0\n",
       "2021-10-17 23:30:00 -55.0\n",
       "2016-02-16 19:30:00 -65.0"
      ]
     },
     "execution_count": 117,
     "metadata": {},
     "output_type": "execute_result"
    }
   ],
   "source": [
    "Dst_localMin[(Dst_localMin['Dst'] > -100) & (Dst_localMin['Dst'] < -50)]"
   ]
  },
  {
   "cell_type": "code",
   "execution_count": 114,
   "id": "bb175aa1",
   "metadata": {},
   "outputs": [
    {
     "data": {
      "text/html": [
       "<div>\n",
       "<style scoped>\n",
       "    .dataframe tbody tr th:only-of-type {\n",
       "        vertical-align: middle;\n",
       "    }\n",
       "\n",
       "    .dataframe tbody tr th {\n",
       "        vertical-align: top;\n",
       "    }\n",
       "\n",
       "    .dataframe thead th {\n",
       "        text-align: right;\n",
       "    }\n",
       "</style>\n",
       "<table border=\"1\" class=\"dataframe\">\n",
       "  <thead>\n",
       "    <tr style=\"text-align: right;\">\n",
       "      <th></th>\n",
       "      <th>Dst</th>\n",
       "    </tr>\n",
       "  </thead>\n",
       "  <tbody>\n",
       "    <tr>\n",
       "      <th>2005-01-18 08:30:00</th>\n",
       "      <td>-103.0</td>\n",
       "    </tr>\n",
       "    <tr>\n",
       "      <th>2002-04-20 08:30:00</th>\n",
       "      <td>-149.0</td>\n",
       "    </tr>\n",
       "    <tr>\n",
       "      <th>2000-10-05 13:30:00</th>\n",
       "      <td>-182.0</td>\n",
       "    </tr>\n",
       "    <tr>\n",
       "      <th>2004-04-04 00:30:00</th>\n",
       "      <td>-117.0</td>\n",
       "    </tr>\n",
       "    <tr>\n",
       "      <th>2012-07-15 18:30:00</th>\n",
       "      <td>-139.0</td>\n",
       "    </tr>\n",
       "  </tbody>\n",
       "</table>\n",
       "</div>"
      ],
      "text/plain": [
       "                       Dst\n",
       "2005-01-18 08:30:00 -103.0\n",
       "2002-04-20 08:30:00 -149.0\n",
       "2000-10-05 13:30:00 -182.0\n",
       "2004-04-04 00:30:00 -117.0\n",
       "2012-07-15 18:30:00 -139.0"
      ]
     },
     "execution_count": 114,
     "metadata": {},
     "output_type": "execute_result"
    }
   ],
   "source": [
    "Dst_localMin[(Dst_localMin['Dst'] < -100) & (Dst_localMin['Dst'] > -200)]"
   ]
  },
  {
   "cell_type": "code",
   "execution_count": 115,
   "id": "266be54f",
   "metadata": {},
   "outputs": [
    {
     "data": {
      "text/html": [
       "<div>\n",
       "<style scoped>\n",
       "    .dataframe tbody tr th:only-of-type {\n",
       "        vertical-align: middle;\n",
       "    }\n",
       "\n",
       "    .dataframe tbody tr th {\n",
       "        vertical-align: top;\n",
       "    }\n",
       "\n",
       "    .dataframe thead th {\n",
       "        text-align: right;\n",
       "    }\n",
       "</style>\n",
       "<table border=\"1\" class=\"dataframe\">\n",
       "  <thead>\n",
       "    <tr style=\"text-align: right;\">\n",
       "      <th></th>\n",
       "      <th>Dst</th>\n",
       "    </tr>\n",
       "  </thead>\n",
       "  <tbody>\n",
       "    <tr>\n",
       "      <th>2000-07-16 00:30:00</th>\n",
       "      <td>-301.0</td>\n",
       "    </tr>\n",
       "    <tr>\n",
       "      <th>2005-05-15 08:30:00</th>\n",
       "      <td>-247.0</td>\n",
       "    </tr>\n",
       "  </tbody>\n",
       "</table>\n",
       "</div>"
      ],
      "text/plain": [
       "                       Dst\n",
       "2000-07-16 00:30:00 -301.0\n",
       "2005-05-15 08:30:00 -247.0"
      ]
     },
     "execution_count": 115,
     "metadata": {},
     "output_type": "execute_result"
    }
   ],
   "source": [
    "Dst_localMin[Dst_localMin['Dst'] < -200].sample(n=2, random_state=156468)"
   ]
  },
  {
   "cell_type": "code",
   "execution_count": 32,
   "id": "6aaacf8b",
   "metadata": {},
   "outputs": [
    {
     "data": {
      "text/plain": [
       "[<matplotlib.lines.Line2D at 0x2a80db52090>]"
      ]
     },
     "execution_count": 32,
     "metadata": {},
     "output_type": "execute_result"
    },
    {
     "data": {
      "image/png": "[encoded data removed]",
      "text/plain": [
       "<Figure size 640x480 with 1 Axes>"
      ]
     },
     "metadata": {},
     "output_type": "display_data"
    }
   ],
   "source": [
    "plt.plot([len(Dst_localMin[Dst_localMin['Dst'] < -x].index) for x in range(100)])"
   ]
  },
  {
   "cell_type": "code",
   "execution_count": 36,
   "id": "4f38e3f2",
   "metadata": {},
   "outputs": [],
   "source": [
    "Storm_date = Dst_localMin[Dst_localMin['Dst'] < -30].index\n",
    "Storm_data = []\n",
    "for i in range(len(Storm_date)):\n",
    "    if i < len(Storm_date)-1:\n",
    "        if Storm_date[i+1] - Storm_date[i] > datetime.timedelta(hours=96):\n",
    "            start_date = Storm_date[i] - datetime.timedelta(hours=48)\n",
    "            end_date = Storm_date[i] + datetime.timedelta(hours=48)\n",
    "            Storm_data.append(df_joint_dst.loc[start_date:end_date])\n",
    "        else:\n",
    "            start_date = Storm_date[i] - datetime.timedelta(hours=48)\n",
    "            end_date = Storm_date[i+1] - datetime.timedelta(hours=48) - datetime.timedelta(minutes=1)\n",
    "            Storm_data.append(df_joint_dst.loc[start_date:end_date])\n",
    "    else:\n",
    "        start_date = Storm_date[i] - datetime.timedelta(hours=48)\n",
    "        end_date = Storm_date[i] + datetime.timedelta(hours=48)\n",
    "        Storm_data.append(df_joint_dst.loc[start_date:end_date])\n",
    "#     print(start_date, end_date)\n",
    "Storm_data = pd.concat(Storm_data, axis=0)"
   ]
  },
  {
   "cell_type": "code",
   "execution_count": 37,
   "id": "07dbe3d4",
   "metadata": {},
   "outputs": [],
   "source": [
    "Storm_data.to_pickle(\"C:/Users/feixi/Desktop/deltaB/data/processed_data/OMNI_StormOnly_1995_2022.pkl\")"
   ]
  },
  {
   "cell_type": "code",
   "execution_count": null,
   "id": "d1c74a5c",
   "metadata": {},
   "outputs": [],
   "source": []
  }
 ],
 "metadata": {
  "kernelspec": {
   "display_name": "Python 3 (ipykernel)",
   "language": "python",
   "name": "python3"
  },
  "language_info": {
   "codemirror_mode": {
    "name": "ipython",
    "version": 3
   },
   "file_extension": ".py",
   "mimetype": "text/x-python",
   "name": "python",
   "nbconvert_exporter": "python",
   "pygments_lexer": "ipython3",
   "version": "3.11.5"
  }
 },
 "nbformat": 4,
 "nbformat_minor": 5
}
