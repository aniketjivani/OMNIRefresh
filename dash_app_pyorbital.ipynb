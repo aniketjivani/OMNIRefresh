{
  "nbformat": 4,
  "nbformat_minor": 0,
  "metadata": {
    "colab": {
      "provenance": []
    },
    "kernelspec": {
      "name": "python3",
      "display_name": "Python 3"
    },
    "language_info": {
      "name": "python"
    }
  },
  "cells": [
    {
      "cell_type": "code",
      "source": [
        "!pip install dash\n",
        "!pip install git+https://github.com/pytroll/pyorbital.git"
      ],
      "metadata": {
        "colab": {
          "base_uri": "https://localhost:8080/"
        },
        "id": "Hc466h9Vxo7j",
        "outputId": "8427fa17-2b3c-4663-db50-57999f83eb98"
      },
      "execution_count": 1,
      "outputs": [
        {
          "output_type": "stream",
          "name": "stdout",
          "text": [
            "Requirement already satisfied: dash in /usr/local/lib/python3.10/dist-packages (2.16.1)\n",
            "Requirement already satisfied: Flask<3.1,>=1.0.4 in /usr/local/lib/python3.10/dist-packages (from dash) (2.2.5)\n",
            "Requirement already satisfied: Werkzeug<3.1 in /usr/local/lib/python3.10/dist-packages (from dash) (3.0.2)\n",
            "Requirement already satisfied: plotly>=5.0.0 in /usr/local/lib/python3.10/dist-packages (from dash) (5.15.0)\n",
            "Requirement already satisfied: dash-html-components==2.0.0 in /usr/local/lib/python3.10/dist-packages (from dash) (2.0.0)\n",
            "Requirement already satisfied: dash-core-components==2.0.0 in /usr/local/lib/python3.10/dist-packages (from dash) (2.0.0)\n",
            "Requirement already satisfied: dash-table==5.0.0 in /usr/local/lib/python3.10/dist-packages (from dash) (5.0.0)\n",
            "Requirement already satisfied: importlib-metadata in /usr/local/lib/python3.10/dist-packages (from dash) (7.1.0)\n",
            "Requirement already satisfied: typing-extensions>=4.1.1 in /usr/local/lib/python3.10/dist-packages (from dash) (4.11.0)\n",
            "Requirement already satisfied: requests in /usr/local/lib/python3.10/dist-packages (from dash) (2.31.0)\n",
            "Requirement already satisfied: retrying in /usr/local/lib/python3.10/dist-packages (from dash) (1.3.4)\n",
            "Requirement already satisfied: nest-asyncio in /usr/local/lib/python3.10/dist-packages (from dash) (1.6.0)\n",
            "Requirement already satisfied: setuptools in /usr/local/lib/python3.10/dist-packages (from dash) (67.7.2)\n",
            "Requirement already satisfied: Jinja2>=3.0 in /usr/local/lib/python3.10/dist-packages (from Flask<3.1,>=1.0.4->dash) (3.1.3)\n",
            "Requirement already satisfied: itsdangerous>=2.0 in /usr/local/lib/python3.10/dist-packages (from Flask<3.1,>=1.0.4->dash) (2.2.0)\n",
            "Requirement already satisfied: click>=8.0 in /usr/local/lib/python3.10/dist-packages (from Flask<3.1,>=1.0.4->dash) (8.1.7)\n",
            "Requirement already satisfied: tenacity>=6.2.0 in /usr/local/lib/python3.10/dist-packages (from plotly>=5.0.0->dash) (8.2.3)\n",
            "Requirement already satisfied: packaging in /usr/local/lib/python3.10/dist-packages (from plotly>=5.0.0->dash) (24.0)\n",
            "Requirement already satisfied: MarkupSafe>=2.1.1 in /usr/local/lib/python3.10/dist-packages (from Werkzeug<3.1->dash) (2.1.5)\n",
            "Requirement already satisfied: zipp>=0.5 in /usr/local/lib/python3.10/dist-packages (from importlib-metadata->dash) (3.18.1)\n",
            "Requirement already satisfied: charset-normalizer<4,>=2 in /usr/local/lib/python3.10/dist-packages (from requests->dash) (3.3.2)\n",
            "Requirement already satisfied: idna<4,>=2.5 in /usr/local/lib/python3.10/dist-packages (from requests->dash) (3.7)\n",
            "Requirement already satisfied: urllib3<3,>=1.21.1 in /usr/local/lib/python3.10/dist-packages (from requests->dash) (2.0.7)\n",
            "Requirement already satisfied: certifi>=2017.4.17 in /usr/local/lib/python3.10/dist-packages (from requests->dash) (2024.2.2)\n",
            "Requirement already satisfied: six>=1.7.0 in /usr/local/lib/python3.10/dist-packages (from retrying->dash) (1.16.0)\n",
            "Collecting git+https://github.com/pytroll/pyorbital.git\n",
            "  Cloning https://github.com/pytroll/pyorbital.git to /tmp/pip-req-build-8nghwaf7\n",
            "  Running command git clone --filter=blob:none --quiet https://github.com/pytroll/pyorbital.git /tmp/pip-req-build-8nghwaf7\n",
            "  Resolved https://github.com/pytroll/pyorbital.git to commit dbabd00386c7d51108fe5527ac58978a3b160428\n",
            "  Preparing metadata (setup.py) ... \u001b[?25l\u001b[?25hdone\n",
            "Requirement already satisfied: numpy>=1.19.0 in /usr/local/lib/python3.10/dist-packages (from pyorbital==1.8.2+6.gdbabd00) (1.25.2)\n",
            "Requirement already satisfied: scipy in /usr/local/lib/python3.10/dist-packages (from pyorbital==1.8.2+6.gdbabd00) (1.11.4)\n",
            "Requirement already satisfied: requests in /usr/local/lib/python3.10/dist-packages (from pyorbital==1.8.2+6.gdbabd00) (2.31.0)\n",
            "Requirement already satisfied: charset-normalizer<4,>=2 in /usr/local/lib/python3.10/dist-packages (from requests->pyorbital==1.8.2+6.gdbabd00) (3.3.2)\n",
            "Requirement already satisfied: idna<4,>=2.5 in /usr/local/lib/python3.10/dist-packages (from requests->pyorbital==1.8.2+6.gdbabd00) (3.7)\n",
            "Requirement already satisfied: urllib3<3,>=1.21.1 in /usr/local/lib/python3.10/dist-packages (from requests->pyorbital==1.8.2+6.gdbabd00) (2.0.7)\n",
            "Requirement already satisfied: certifi>=2017.4.17 in /usr/local/lib/python3.10/dist-packages (from requests->pyorbital==1.8.2+6.gdbabd00) (2024.2.2)\n"
          ]
        }
      ]
    },
    {
      "cell_type": "code",
      "execution_count": 6,
      "metadata": {
        "id": "XENlXUQTxH2l"
      },
      "outputs": [],
      "source": [
        "import datetime\n",
        "\n",
        "import dash\n",
        "from dash import Dash, dcc, html, Input, Output, callback\n",
        "import plotly\n",
        "\n",
        "# pip install pyorbital\n",
        "from pyorbital.orbital import Orbital\n",
        "satellite = Orbital('TERRA')\n",
        "\n",
        "external_stylesheets = ['https://codepen.io/chriddyp/pen/bWLwgP.css']\n",
        "\n",
        "app = Dash(__name__, external_stylesheets=external_stylesheets)\n",
        "app.layout = html.Div(\n",
        "    html.Div([\n",
        "        html.H4('NOAA Satellite Live Feed'),\n",
        "        html.Div(id='live-update-text'),\n",
        "        dcc.Graph(id='live-update-graph'),\n",
        "        dcc.Interval(\n",
        "            id='interval-component',\n",
        "            interval=1*2000, # in milliseconds\n",
        "            n_intervals=0\n",
        "        )\n",
        "    ])\n",
        ")\n",
        "\n",
        "\n",
        "@callback(Output('live-update-text', 'children'),\n",
        "              Input('interval-component', 'n_intervals'))\n",
        "def update_metrics(n):\n",
        "    lon, lat, alt = satellite.get_lonlatalt(datetime.datetime.now())\n",
        "    style = {'padding': '5px', 'fontSize': '16px'}\n",
        "    return [\n",
        "        html.Span('Longitude: {0:.2f}'.format(lon), style=style),\n",
        "        html.Span('Latitude: {0:.2f}'.format(lat), style=style),\n",
        "        html.Span('Altitude: {0:0.2f}'.format(alt), style=style)\n",
        "    ]\n",
        "\n",
        "\n",
        "# Multiple components can update everytime interval gets fired.\n",
        "@callback(Output('live-update-graph', 'figure'),\n",
        "              Input('interval-component', 'n_intervals'))\n",
        "def update_graph_live(n):\n",
        "    satellite = Orbital('noaa-20')\n",
        "    data = {\n",
        "        'time': [],\n",
        "        'Latitude': [],\n",
        "        'Longitude': [],\n",
        "        'Altitude': []\n",
        "    }\n",
        "\n",
        "    # Collect some data\n",
        "    for i in range(180):\n",
        "        time = datetime.datetime.now() - datetime.timedelta(seconds=i*10)\n",
        "        lon, lat, alt = satellite.get_lonlatalt(\n",
        "            time\n",
        "        )\n",
        "        data['Longitude'].append(lon)\n",
        "        data['Latitude'].append(lat)\n",
        "        data['Altitude'].append(alt)\n",
        "        data['time'].append(time)\n",
        "\n",
        "    # Create the graph with subplots\n",
        "    fig = plotly.tools.make_subplots(rows=2, cols=1, vertical_spacing=0.2)\n",
        "    fig['layout']['margin'] = {\n",
        "        'l': 30, 'r': 10, 'b': 30, 't': 10\n",
        "    }\n",
        "    fig['layout']['legend'] = {'x': 0, 'y': 1, 'xanchor': 'left'}\n",
        "\n",
        "    fig.append_trace({\n",
        "        'x': data['time'],\n",
        "        'y': data['Altitude'],\n",
        "        'name': 'Altitude',\n",
        "        'mode': 'lines+markers',\n",
        "        'type': 'scatter'\n",
        "    }, 1, 1)\n",
        "    fig.append_trace({\n",
        "        'x': data['Longitude'],\n",
        "        'y': data['Latitude'],\n",
        "        'text': data['time'],\n",
        "        'name': 'Longitude vs Latitude',\n",
        "        'mode': 'lines+markers',\n",
        "        'type': 'scatter'\n",
        "    }, 2, 1)\n",
        "\n",
        "    return fig"
      ]
    },
    {
      "cell_type": "code",
      "source": [
        "app.run_server(mode='inline')"
      ],
      "metadata": {
        "id": "JtEwsO5Xxyc7"
      },
      "execution_count": null,
      "outputs": []
    }
  ]
}